{
 "cells": [
  {
   "cell_type": "code",
   "execution_count": 5,
   "id": "9a14b2d5",
   "metadata": {},
   "outputs": [
    {
     "name": "stdout",
     "output_type": "stream",
     "text": [
      "Probabilitas tinggi kurang dari 189 cm: 0.8413447460685429\n"
     ]
    }
   ],
   "source": [
    "from scipy.stats import norm\n",
    "#menentukan rata-rata dan standar deviasi\n",
    "mean = 184 # rata-rata\n",
    "std_dev = 5 # standart deviasi\n",
    "#menghitung probabilitas tinggi kurang dari 189 cm\n",
    "height = 189\n",
    "prob_less_than_189 = norm.cdf(height, mean, std_dev)\n",
    "# menampilkan hasil\n",
    "print(\"Probabilitas tinggi kurang dari 189 cm:\", prob_less_than_189)"
   ]
  },
  {
   "cell_type": "code",
   "execution_count": 9,
   "id": "f87e33f7",
   "metadata": {},
   "outputs": [
    {
     "name": "stdout",
     "output_type": "stream",
     "text": [
      "Probabilitas tinggi antara 174 cm dan 199 cm: 0.9758999700201907\n"
     ]
    }
   ],
   "source": [
    "from scipy.stats import norm\n",
    "#menentukan rata-rata dan standar deviasi\n",
    "mean = 184 # rata-rata\n",
    "std_dev = 5 # standart deviasi\n",
    "\n",
    "#menghitung probabilitas tinggi kurang dari 174 cm\n",
    "prob_less_than_174 = norm.cdf(174, mean, std_dev)\n",
    "#menghitung probabilitas tinggi kurang dari 199 cm\n",
    "prob_less_than_199 = norm.cdf(199, mean, std_dev)\n",
    "#kemungkinan antara 174 cm dan 199 cm  adalah selisih antara probabilitas kurang dari 199 dan kurang dari 174\n",
    "prob_between_174_and_199 = prob_less_than_199 - prob_less_than_174\n",
    "\n",
    "# menampilkan hasil\n",
    "print(\"Probabilitas tinggi antara 174 cm dan 199 cm:\", prob_between_174_and_199)"
   ]
  },
  {
   "cell_type": "code",
   "execution_count": 12,
   "id": "ce2289b3",
   "metadata": {},
   "outputs": [
    {
     "name": "stdout",
     "output_type": "stream",
     "text": [
      "Peluang apel yang berkualitas 'not good': 0.0595\n"
     ]
    }
   ],
   "source": [
    "from scipy.stats import norm\n",
    "#menentukan rata-rata dan standar deviasi\n",
    "mean = 173 # rata-rata\n",
    "std_dev = 34 # standart deviasi\n",
    "\n",
    "#menghitung probabilitas apel berkualitas \"not good\" berat kurang dari 120 gram\n",
    "prob_not_good = norm.cdf(120, mean, std_dev)\n",
    "\n",
    "print(\"Peluang apel yang berkualitas 'not good': {:.4f}\".format(prob_not_good))"
   ]
  },
  {
   "cell_type": "code",
   "execution_count": 15,
   "id": "665b45df",
   "metadata": {},
   "outputs": [
    {
     "name": "stdout",
     "output_type": "stream",
     "text": [
      "Rata-rata jumlah pelanggan dalam sistem (L): 4.00\n",
      "Rata-rata waktu setiap pelanggan berada dalam sistem (W): 40.00\n"
     ]
    }
   ],
   "source": [
    "#definisi laju kedatangan dan laju pelayanan\n",
    "arrival_rate = 1/10 # pelanggan per menit\n",
    "service_rate = 1/8 # pelangggan per menit\n",
    "\n",
    "#menghitung rata rata jumlah pelanggan dalam sistem (l)\n",
    "L = arrival_rate / (service_rate - arrival_rate)\n",
    "#menghitung rata rata waktu setiap pelanggan berada dalam sistem(w)\n",
    "W = L / arrival_rate\n",
    "\n",
    "print(\"Rata-rata jumlah pelanggan dalam sistem (L): {:.2f}\".format(L))\n",
    "print(\"Rata-rata waktu setiap pelanggan berada dalam sistem (W): {:.2f}\".format(W))"
   ]
  },
  {
   "cell_type": "code",
   "execution_count": 19,
   "id": "0be43314",
   "metadata": {},
   "outputs": [
    {
     "name": "stdout",
     "output_type": "stream",
     "text": [
      "Peluang sesesorang dilayani antara 3 sampai 5 menit: 0.1618974\n"
     ]
    }
   ],
   "source": [
    "from scipy.stats import expon\n",
    "# rerata waktu pelayanan (mu)\n",
    "mean_service_time = 7 # menit\n",
    "# menghitung peluang seseorang dilayani antara 3 sampai 5 menit\n",
    "prob_between_3_and_5 = expon.cdf(5, scale=mean_service_time) - expon.cdf(3, scale=mean_service_time)\n",
    "\n",
    "print(\"Peluang sesesorang dilayani antara 3 sampai 5 menit: {:.7f}\".format(prob_between_3_and_5))"
   ]
  },
  {
   "cell_type": "code",
   "execution_count": 21,
   "id": "ce2570a7",
   "metadata": {},
   "outputs": [
    {
     "name": "stdout",
     "output_type": "stream",
     "text": [
      "Peluang lebih dari 6 pelanggan akan tiba dalam periode 2 menit berikutnya: 0.8698586\n"
     ]
    }
   ],
   "source": [
    "from scipy.stats import poisson\n",
    "#rata rata pelanggan per menit \n",
    "mean_arrival_rate =  5\n",
    "# menghitung peluang lebih dari 6 pelanggan tiba dalam periode 2 menit\n",
    "prob_more_than_6_arrivals = 1 - poisson.cdf(6,mu=mean_arrival_rate * 2)\n",
    "\n",
    "print(\"Peluang lebih dari 6 pelanggan akan tiba dalam periode 2 menit berikutnya: {:.7f}\".format(prob_more_than_6_arrivals))"
   ]
  },
  {
   "cell_type": "code",
   "execution_count": 22,
   "id": "307f5f87",
   "metadata": {},
   "outputs": [
    {
     "name": "stdout",
     "output_type": "stream",
     "text": [
      "Tinggi sedemikian rupa sehinggan 16,85% pemain baket lebih tinggi dari 188.80 cm\n"
     ]
    }
   ],
   "source": [
    "from scipy.stats import norm\n",
    "#menentukan rata-rata dan standar deviasi\n",
    "mean = 184 # rata-rata\n",
    "std_dev = 5 # standart deviasi\n",
    "\n",
    "#probabilitas tinggi lebih dari tinggi tertentu\n",
    "prob_more_than = 1-0.1685\n",
    "#menggunakn fungsi quartile untuk menemukan tinggi yg sesuai\n",
    "height = norm.ppf(prob_more_than, mean, std_dev)\n",
    "\n",
    "# menampilkan hasil\n",
    "print(\"Tinggi sedemikian rupa sehinggan 16,85% pemain baket lebih tinggi dari {:.2f} cm\".format(height))"
   ]
  },
  {
   "cell_type": "code",
   "execution_count": 24,
   "id": "025e35b3",
   "metadata": {},
   "outputs": [
    {
     "name": "stdout",
     "output_type": "stream",
     "text": [
      "Probabilitas kurang dari atau sama dengan 2 apel berkualitas 'not good': 0.990377\n"
     ]
    }
   ],
   "source": [
    "from scipy.stats import binom\n",
    "# menenntukan paramter distribusi binomial\n",
    "n = 8 # jumlah apel\n",
    "p = 0.06 # probabilitas apel berkualitas not good\n",
    "\n",
    "# menghitung probabilitas jumlah apel berkualitas not good kurang dari sama dengan 2\n",
    "prob_not_good_2_or_less = binom.cdf(2, n, p)\n",
    "\n",
    "print(\"Probabilitas kurang dari atau sama dengan 2 apel berkualitas 'not good': {:7f}\".format(prob_not_good_2_or_less))"
   ]
  },
  {
   "cell_type": "code",
   "execution_count": 26,
   "id": "bf5beb62",
   "metadata": {},
   "outputs": [
    {
     "name": "stdout",
     "output_type": "stream",
     "text": [
      "Rata-rata jumlah pelanggan dalam sistem (L): 1.00\n",
      "Rata-rata waktu setiap pelanggan berada dalam sistem (W): 16.00\n"
     ]
    }
   ],
   "source": [
    "#definisi laju kedatangan dan laju pelayanan\n",
    "arrival_rate_new = 1/16 # pelanggan per menit\n",
    "\n",
    "#menghitung rata rata jumlah pelanggan dalam sistem (l)\n",
    "L_new = arrival_rate_new / (service_rate - arrival_rate_new)\n",
    "#menghitung rata rata waktu setiap pelanggan berada dalam sistem(w)\n",
    "W_new= L_new / arrival_rate_new\n",
    "\n",
    "print(\"Rata-rata jumlah pelanggan dalam sistem (L): {:.2f}\".format(L_new))\n",
    "print(\"Rata-rata waktu setiap pelanggan berada dalam sistem (W): {:.2f}\".format(W_new))"
   ]
  },
  {
   "cell_type": "code",
   "execution_count": 27,
   "id": "954b4c22",
   "metadata": {},
   "outputs": [
    {
     "name": "stdout",
     "output_type": "stream",
     "text": [
      "Peluang sesesorang mendapat pelayanan lebih dari 8 menit: 0.3189066\n"
     ]
    }
   ],
   "source": [
    "from scipy.stats import expon\n",
    "# rerata waktu pelayanan (mu)\n",
    "mean_service_time = 7 # menit\n",
    "# menghitung peluang seseorang dilayani antara 3 sampai 5 menit\n",
    "prob_more_than_8_minutes = 1 - expon.cdf(8, scale=mean_service_time)\n",
    "\n",
    "print(\"Peluang sesesorang mendapat pelayanan lebih dari 8 menit: {:.7f}\".format(prob_more_than_8_minutes))"
   ]
  },
  {
   "cell_type": "code",
   "execution_count": 28,
   "id": "3ea1e725",
   "metadata": {},
   "outputs": [
    {
     "name": "stdout",
     "output_type": "stream",
     "text": [
      "Peluang lebih dari 4 pelanggan akan tiba dalam periode 1 menit berikutnya: 0.1754674\n"
     ]
    }
   ],
   "source": [
    "from scipy.stats import poisson\n",
    "#rata rata pelanggan per menit \n",
    "mean_arrival_rate =  5\n",
    "# menghitung peluang lebih dari 4 pelanggan tiba dalam periode 1 menit\n",
    "prob_4_arrivals = poisson.pmf(4,mu=mean_arrival_rate)\n",
    "\n",
    "print(\"Peluang lebih dari 4 pelanggan akan tiba dalam periode 1 menit berikutnya: {:.7f}\".format(prob_4_arrivals))"
   ]
  },
  {
   "cell_type": "code",
   "execution_count": 31,
   "id": "ea335a56",
   "metadata": {},
   "outputs": [
    {
     "name": "stdout",
     "output_type": "stream",
     "text": [
      "Rata-rata jumlah kedatangan selama periode 1 jam: 300.00\n"
     ]
    }
   ],
   "source": [
    "#rata rata pelanggan per menit \n",
    "mean_arrival_rate =  5\n",
    "# menghitung rata rata jumlah kedatangan periode 1 jam\n",
    "mean_arrivals_per_hours = mean_arrival_rate * 60 # 60 menit dalam satu jam\n",
    "\n",
    "print(\"Rata-rata jumlah kedatangan selama periode 1 jam: {:.2f}\".format(mean_arrivals_per_hours))"
   ]
  },
  {
   "cell_type": "code",
   "execution_count": null,
   "id": "f457865b",
   "metadata": {},
   "outputs": [],
   "source": []
  }
 ],
 "metadata": {
  "kernelspec": {
   "display_name": "Python 3 (ipykernel)",
   "language": "python",
   "name": "python3"
  },
  "language_info": {
   "codemirror_mode": {
    "name": "ipython",
    "version": 3
   },
   "file_extension": ".py",
   "mimetype": "text/x-python",
   "name": "python",
   "nbconvert_exporter": "python",
   "pygments_lexer": "ipython3",
   "version": "3.11.5"
  }
 },
 "nbformat": 4,
 "nbformat_minor": 5
}
